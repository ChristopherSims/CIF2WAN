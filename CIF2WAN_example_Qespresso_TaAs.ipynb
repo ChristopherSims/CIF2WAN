{
  "nbformat": 4,
  "nbformat_minor": 0,
  "metadata": {
    "colab": {
      "provenance": []
    },
    "kernelspec": {
      "name": "python3",
      "display_name": "Python 3"
    },
    "language_info": {
      "name": "python"
    }
  },
  "cells": [
    {
      "cell_type": "markdown",
      "source": [
        "CIF2wan example for a cif file with expresso\n",
        "\n",
        "I don't use a json file or yaml file to load parameters in order to make this tool user friendly"
      ],
      "metadata": {
        "id": "0GtkZoJAeKiB"
      }
    },
    {
      "cell_type": "code",
      "execution_count": 14,
      "metadata": {
        "id": "kz_1ENcWav9t"
      },
      "outputs": [],
      "source": [
        "%%capture\n",
        "!git clone https://github.com/ChristopherSims/CIF2WAN\n",
        "%cd CIF2WAN"
      ]
    },
    {
      "cell_type": "code",
      "source": [
        "%cd CIF2WAN"
      ],
      "metadata": {
        "colab": {
          "base_uri": "https://localhost:8080/"
        },
        "id": "QINg5Eygdvkk",
        "outputId": "0bf1f61b-21b3-45c0-e06c-287f5ce63e1f"
      },
      "execution_count": 17,
      "outputs": [
        {
          "output_type": "stream",
          "name": "stdout",
          "text": [
            "[Errno 2] No such file or directory: 'CIF2WAN'\n",
            "/content/CIF2WAN\n"
          ]
        }
      ]
    },
    {
      "cell_type": "code",
      "source": [
        "%%capture\n",
        "!pip install pymatgen\n",
        "!pip install ase"
      ],
      "metadata": {
        "id": "KL11iNWMa3tL"
      },
      "execution_count": 21,
      "outputs": []
    },
    {
      "cell_type": "markdown",
      "source": [
        "Set your variables"
      ],
      "metadata": {
        "id": "d72Fk-WHboyJ"
      }
    },
    {
      "cell_type": "code",
      "source": [
        "%%capture\n",
        "ncore = 50\n",
        "ecut = 60\n",
        "DFT = 'ESPRESSO'\n",
        "input_type = 'CIF'\n",
        "apikey = 'yourapikey' # APIKEY for Pymatgen\n",
        "material_id = 'mp-19804' # input for Pymatgen\n",
        "seedname = 'TA' # your own name or default\n",
        "ciffile = 'CIFDIR/TA.cif'\n",
        "EMAIL = 'abc' #your email if you use slurm\n",
        "SOC = 'False' # TRUE or FALSE\n",
        "KMESH = '4,4,4' # KMESH for nscf/wan\n",
        "NUMBANDS = '120' # Number of bands must encapsulate fermi level\n",
        "MAGNETISM = 'False' # True or False; add magnetism\n",
        "conventional_cell = 'False' # True or False; Select conventional cell #Ignore for pure CIF\n",
        "Relax = 'True' # True or False; Get the relaxed unit cell, ignore for pure CIF"
      ],
      "metadata": {
        "id": "tTDXxKLtboDD"
      },
      "execution_count": 24,
      "outputs": []
    },
    {
      "cell_type": "code",
      "source": [
        "with open('input.in','w+') as f:\n",
        "  f.write('ncore = ' + str(ncore) + '\\n')\n",
        "  f.write('ECUT = ' +str(ecut)+ '\\n')\n",
        "  f.write('DFT = ' +DFT+ '\\n')\n",
        "  f.write('InputType = ' +input_type+ '\\n')\n",
        "  f.write('APIKEY = ' +apikey+ '\\n')\n",
        "  f.write('MATERIALID = ' +material_id+ '\\n')\n",
        "  f.write('SEEDNAME = ' +seedname+ '\\n')\n",
        "  f.write('ciffile = ' +ciffile+ '\\n')\n",
        "  f.write('EMAIL = ' +EMAIL+ '\\n')\n",
        "  f.write('SOC = ' +SOC+ '\\n')\n",
        "  f.write('KMESH =  ' +KMESH+ '\\n')\n",
        "  f.write('NUMBANDS = ' +NUMBANDS+ '\\n')\n",
        "  f.write('MAGNETISM = ' +MAGNETISM+ '\\n')\n",
        "  f.write('conventional_cell =  ' +conventional_cell+ '\\n')\n",
        "  f.write('Relax =  ' +Relax+ '\\n')"
      ],
      "metadata": {
        "id": "V2yLb4ZmbfLf"
      },
      "execution_count": 28,
      "outputs": []
    },
    {
      "cell_type": "code",
      "source": [
        "!python3 CIF2WAN.py"
      ],
      "metadata": {
        "id": "3juZYjYwdbo_"
      },
      "execution_count": 29,
      "outputs": []
    },
    {
      "cell_type": "code",
      "source": [
        "%%capture\n",
        "# make sure you name the directory correctly to save\n",
        "!zip -r /content/CIF2WAN/OUTPUT/QE-run.zip  /content/CIF2WAN/OUTPUT/QE-TA/"
      ],
      "metadata": {
        "id": "hmlBE9X3foA1"
      },
      "execution_count": 30,
      "outputs": []
    },
    {
      "cell_type": "code",
      "source": [
        "from google.colab import files\n",
        "\n",
        "\n",
        "files.download(\"/content/CIF2WAN/OUTPUT/QE-run.zip\")"
      ],
      "metadata": {
        "colab": {
          "base_uri": "https://localhost:8080/",
          "height": 17
        },
        "id": "WRCY8A2EgFui",
        "outputId": "06812018-1c11-42da-a147-61786233279c"
      },
      "execution_count": 32,
      "outputs": [
        {
          "output_type": "display_data",
          "data": {
            "text/plain": [
              "<IPython.core.display.Javascript object>"
            ],
            "application/javascript": [
              "\n",
              "    async function download(id, filename, size) {\n",
              "      if (!google.colab.kernel.accessAllowed) {\n",
              "        return;\n",
              "      }\n",
              "      const div = document.createElement('div');\n",
              "      const label = document.createElement('label');\n",
              "      label.textContent = `Downloading \"${filename}\": `;\n",
              "      div.appendChild(label);\n",
              "      const progress = document.createElement('progress');\n",
              "      progress.max = size;\n",
              "      div.appendChild(progress);\n",
              "      document.body.appendChild(div);\n",
              "\n",
              "      const buffers = [];\n",
              "      let downloaded = 0;\n",
              "\n",
              "      const channel = await google.colab.kernel.comms.open(id);\n",
              "      // Send a message to notify the kernel that we're ready.\n",
              "      channel.send({})\n",
              "\n",
              "      for await (const message of channel.messages) {\n",
              "        // Send a message to notify the kernel that we're ready.\n",
              "        channel.send({})\n",
              "        if (message.buffers) {\n",
              "          for (const buffer of message.buffers) {\n",
              "            buffers.push(buffer);\n",
              "            downloaded += buffer.byteLength;\n",
              "            progress.value = downloaded;\n",
              "          }\n",
              "        }\n",
              "      }\n",
              "      const blob = new Blob(buffers, {type: 'application/binary'});\n",
              "      const a = document.createElement('a');\n",
              "      a.href = window.URL.createObjectURL(blob);\n",
              "      a.download = filename;\n",
              "      div.appendChild(a);\n",
              "      a.click();\n",
              "      div.remove();\n",
              "    }\n",
              "  "
            ]
          },
          "metadata": {}
        },
        {
          "output_type": "display_data",
          "data": {
            "text/plain": [
              "<IPython.core.display.Javascript object>"
            ],
            "application/javascript": [
              "download(\"download_bd9d3dcd-5cc2-46a3-b6f9-5173cc003840\", \"QE-run.zip\", 503181)"
            ]
          },
          "metadata": {}
        }
      ]
    }
  ]
}